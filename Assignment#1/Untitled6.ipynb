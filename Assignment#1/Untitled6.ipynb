{
 "cells": [
  {
   "cell_type": "code",
   "execution_count": 1,
   "id": "c30fb407",
   "metadata": {},
   "outputs": [
    {
     "ename": "SyntaxError",
     "evalue": "invalid syntax (<ipython-input-1-890c0fc44bfe>, line 12)",
     "output_type": "error",
     "traceback": [
      "\u001b[1;36m  File \u001b[1;32m\"<ipython-input-1-890c0fc44bfe>\"\u001b[1;36m, line \u001b[1;32m12\u001b[0m\n\u001b[1;33m    print(\"fail\"):\u001b[0m\n\u001b[1;37m                  ^\u001b[0m\n\u001b[1;31mSyntaxError\u001b[0m\u001b[1;31m:\u001b[0m invalid syntax\n"
     ]
    }
   ],
   "source": [
    "English=70\n",
    "Maths=80\n",
    "Islamiat=85\n",
    "Total_Marks_Gain=English+Maths+Islamiat\n",
    "Total_Marks=300\n",
    "Percentage=Total_Marks_Gain/Total_Marks*100\n",
    "Print(Percentage)\n",
    "\n",
    "if Percentage > 60:\n",
    "    print(\"A+\")\n",
    "else:"
   ]
  },
  {
   "cell_type": "code",
   "execution_count": null,
   "id": "55f7957e",
   "metadata": {},
   "outputs": [],
   "source": []
  }
 ],
 "metadata": {
  "kernelspec": {
   "display_name": "Python 3",
   "language": "python",
   "name": "python3"
  }
 },
 "nbformat": 4,
 "nbformat_minor": 5
}
