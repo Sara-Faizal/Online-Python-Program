{
 "cells": [
  {
   "cell_type": "code",
   "execution_count": 17,
   "id": "4cf0ed3c",
   "metadata": {},
   "outputs": [
    {
     "ename": "SyntaxError",
     "evalue": "invalid syntax (<ipython-input-17-f24a75f01c09>, line 9)",
     "output_type": "error",
     "traceback": [
      "\u001b[1;36m  File \u001b[1;32m\"<ipython-input-17-f24a75f01c09>\"\u001b[1;36m, line \u001b[1;32m9\u001b[0m\n\u001b[1;33m    If Percentage > 60:\u001b[0m\n\u001b[1;37m       ^\u001b[0m\n\u001b[1;31mSyntaxError\u001b[0m\u001b[1;31m:\u001b[0m invalid syntax\n"
     ]
    }
   ],
   "source": [
    "English=70\n",
    "Maths=80\n",
    "Islamiat=85\n",
    "Total_Marks_Gain=English+Maths+Islamiat\n",
    "Total_Marks=300\n",
    "Percentage=Total_Marks_Gain/Total_Marks*100\n",
    "print(Percentage)\n",
    "\n",
    "If Percentage > 60:\n",
    "    print (\"A\")\n",
    "else:\n",
    "    print (\"Fail\")"
   ]
  },
  {
   "cell_type": "code",
   "execution_count": null,
   "id": "f04ef6b1",
   "metadata": {},
   "outputs": [],
   "source": []
  },
  {
   "cell_type": "code",
   "execution_count": null,
   "id": "0c4b6974",
   "metadata": {},
   "outputs": [],
   "source": []
  }
 ],
 "metadata": {
  "kernelspec": {
   "display_name": "Python 3",
   "language": "python",
   "name": "python3"
  },
  "language_info": {
   "codemirror_mode": {
    "name": "ipython",
    "version": 3
   },
   "file_extension": ".py",
   "mimetype": "text/x-python",
   "name": "python",
   "nbconvert_exporter": "python",
   "pygments_lexer": "ipython3",
   "version": "3.8.8"
  }
 },
 "nbformat": 4,
 "nbformat_minor": 5
}
