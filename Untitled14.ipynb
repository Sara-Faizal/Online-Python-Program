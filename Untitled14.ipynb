{
 "cells": [
  {
   "cell_type": "code",
   "execution_count": 1,
   "id": "3a368b0a",
   "metadata": {},
   "outputs": [
    {
     "name": "stdout",
     "output_type": "stream",
     "text": [
      "Enter first number: 14\n",
      "Enter second number: 8\n",
      "The sum of 14 and 8 is: 22\n"
     ]
    }
   ],
   "source": [
    "number1 = input('Enter first number: ')\n",
    "number2 = input('Enter second number: ')\n",
    "sum = int(number1) + int(number2)\n",
    "print('The sum of {0} and {1} is: {2}'.format(number1, number2, sum))"
   ]
  },
  {
   "cell_type": "code",
   "execution_count": 2,
   "id": "78e348e8",
   "metadata": {},
   "outputs": [
    {
     "name": "stdout",
     "output_type": "stream",
     "text": [
      "Twinkle, twinkle, little star, \n",
      "\tHow I wonder what you are! \n",
      "\t\tUp above the world so high, \n",
      "\t\tLike a diamond in the sky. \n",
      "Twinkle, twinkle, little star, \n",
      "\tHow I wonder what you are!\n"
     ]
    }
   ],
   "source": [
    "print(\"Twinkle, twinkle, little star, \\n\\tHow I wonder what you are! \\n\\t\\tUp above the world so high, \\n\\t\\tLike a diamond in the sky. \\nTwinkle, twinkle, little star, \\n\\tHow I wonder what you are!\")"
   ]
  },
  {
   "cell_type": "code",
   "execution_count": 3,
   "id": "452af7c0",
   "metadata": {},
   "outputs": [
    {
     "name": "stdout",
     "output_type": "stream",
     "text": [
      "3.8.8 (default, Apr 13 2021, 15:08:03) [MSC v.1916 64 bit (AMD64)]\n"
     ]
    }
   ],
   "source": [
    "import sys\n",
    "print (sys.version)"
   ]
  },
  {
   "cell_type": "code",
   "execution_count": 6,
   "id": "d5cd2bdc",
   "metadata": {},
   "outputs": [
    {
     "name": "stdout",
     "output_type": "stream",
     "text": [
      "Date and Time : \n",
      "2021-10-24 19:02:50\n"
     ]
    }
   ],
   "source": [
    "import datetime\n",
    "now = datetime.datetime.now()\n",
    "print (\"Date and Time : \")\n",
    "print (now.strftime(\"%Y-%m-%d %H:%M:%S\"))"
   ]
  },
  {
   "cell_type": "code",
   "execution_count": 9,
   "id": "2d1f33f2",
   "metadata": {},
   "outputs": [
    {
     "name": "stdout",
     "output_type": "stream",
     "text": [
      "Type the radius of the circle : 14\n",
      "Area of the circle with radius 14.0 is: 615.7521601035994\n"
     ]
    }
   ],
   "source": [
    "from math import pi\n",
    "r = float(input (\"Type the radius of the circle : \"))\n",
    "print (\"Area of the circle with radius \" + str(r) + \" is: \" + str(pi * r**2))"
   ]
  },
  {
   "cell_type": "code",
   "execution_count": 10,
   "id": "b678f53e",
   "metadata": {},
   "outputs": [
    {
     "name": "stdout",
     "output_type": "stream",
     "text": [
      "Type your First Name : Sara\n",
      "Type your Last Name : Faizal\n",
      "Faizal Sara\n"
     ]
    }
   ],
   "source": [
    "firstname = input(\"Type your First Name : \")\n",
    "lastname = input(\"Type your Last Name : \")\n",
    "print ( lastname + \" \" + firstname)"
   ]
  },
  {
   "cell_type": "code",
   "execution_count": 12,
   "id": "77c0f192",
   "metadata": {},
   "outputs": [
    {
     "name": "stdout",
     "output_type": "stream",
     "text": [
      "Enter the marks:\n",
      "555\n",
      "222\n",
      "333\n",
      "444\n",
      "111\n",
      "\n",
      "The Total marks is:   \t 1665.0 / 500.00\n",
      "\n",
      "The Average marks is: \t 333.0\n",
      "\n",
      "The Percentage is:    \t 333.0 %\n",
      "\n",
      "The Grade is:         \t A\n"
     ]
    }
   ],
   "source": [
    "print(\"Enter the marks:\")\n",
    "subject_1 = float (input ())\n",
    "subject_2 = float (input ())\n",
    "subject_3 = float (input ())\n",
    "subject_4 = float (input ())\n",
    "subject_5 = float (input ())\n",
    "\n",
    "total, average, percentage, grade = None, None, None, None\n",
    "total = subject_1 + subject_2 + subject_3 + subject_4 + subject_5\n",
    "average = total / 5.0\n",
    "percentage = (total / 500.0) * 100\n",
    "\n",
    "if average >= 90:\n",
    "    grade = 'A'\n",
    "elif average >= 80 and average < 90:\n",
    "    grade = 'B'\n",
    "elif average >= 70 and average < 80:\n",
    "    grade = 'C'\n",
    "elif average >= 60 and average < 70:\n",
    "    grade = 'D'ss\n",
    "else:\n",
    "    grade = 'E'\n",
    "print (\"\\nThe Total marks is:   \\t\", total, \"/ 500.00\")\n",
    "print (\"\\nThe Average marks is: \\t\", average)\n",
    "print (\"\\nThe Percentage is:    \\t\", percentage, \"%\")\n",
    "print (\"\\nThe Grade is:         \\t\", grade)"
   ]
  },
  {
   "cell_type": "code",
   "execution_count": 13,
   "id": "3d4ff4d4",
   "metadata": {},
   "outputs": [
    {
     "name": "stdout",
     "output_type": "stream",
     "text": [
      "Enter number: 14\n",
      "It's an even number.\n"
     ]
    }
   ],
   "source": [
    "num = int(input(\"Enter number: \"))\n",
    "place_value = num % 2\n",
    "if place_value > 0:\n",
    "    print(\"It's an odd number.\")\n",
    "else:\n",
    "    print(\"It's an even number.\")"
   ]
  },
  {
   "cell_type": "code",
   "execution_count": 15,
   "id": "3dffee34",
   "metadata": {},
   "outputs": [
    {
     "name": "stdout",
     "output_type": "stream",
     "text": [
      "Length of the list is:\n",
      "6\n"
     ]
    }
   ],
   "source": [
    "from operator import length_hint \n",
    "inp_lst = ['a','','c','d','e','k']\n",
    "print(\"Length of the list is:\")\n",
    "length = length_hint(inp_lst)\n",
    "print(length)"
   ]
  },
  {
   "cell_type": "code",
   "execution_count": 18,
   "id": "7cae0538",
   "metadata": {},
   "outputs": [
    {
     "name": "stdout",
     "output_type": "stream",
     "text": [
      "210\n"
     ]
    }
   ],
   "source": [
    "def sum_list(items):\n",
    "    sum = 0\n",
    "    for x in items:\n",
    "        sum += x\n",
    "    return sum\n",
    "print(sum_list([14,-8,1,3,200]))"
   ]
  },
  {
   "cell_type": "code",
   "execution_count": 20,
   "id": "e61fd4e7",
   "metadata": {},
   "outputs": [
    {
     "name": "stdout",
     "output_type": "stream",
     "text": [
      "800\n"
     ]
    }
   ],
   "source": [
    "def max_num_in_list( list ):\n",
    "    max = list[ 0 ]\n",
    "    for a in list:\n",
    "        if a > max:\n",
    "            max = a\n",
    "    return max\n",
    "print(max_num_in_list([144, 52, -350, 70, 800, 140.008]))"
   ]
  },
  {
   "cell_type": "code",
   "execution_count": 22,
   "id": "f662f016",
   "metadata": {},
   "outputs": [
    {
     "name": "stdout",
     "output_type": "stream",
     "text": [
      "1\n",
      "\n",
      "2\n",
      "\n",
      "4\n",
      "\n",
      "3\n",
      "\n"
     ]
    }
   ],
   "source": [
    "test_list= [1, 2, 4, 3, 5, 8, 14, 21, 34, 144, 88]\n",
    "for element in test_list:\n",
    "    if(int(element) <5):\n",
    "        print(str(element)+\"\\n\")"
   ]
  },
  {
   "cell_type": "code",
   "execution_count": null,
   "id": "8b4388fb",
   "metadata": {},
   "outputs": [],
   "source": []
  }
 ],
 "metadata": {
  "kernelspec": {
   "display_name": "Python 3",
   "language": "python",
   "name": "python3"
  },
  "language_info": {
   "codemirror_mode": {
    "name": "ipython",
    "version": 3
   },
   "file_extension": ".py",
   "mimetype": "text/x-python",
   "name": "python",
   "nbconvert_exporter": "python",
   "pygments_lexer": "ipython3",
   "version": "3.8.8"
  }
 },
 "nbformat": 4,
 "nbformat_minor": 5
}
